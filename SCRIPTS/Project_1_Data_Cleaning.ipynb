{
 "cells": [
  {
   "cell_type": "markdown",
   "metadata": {},
   "source": [
    "# Data Cleaning "
   ]
  },
  {
   "cell_type": "code",
   "execution_count": 1,
   "metadata": {},
   "outputs": [],
   "source": [
    "import pandas as pd "
   ]
  },
  {
   "cell_type": "code",
   "execution_count": 3,
   "metadata": {},
   "outputs": [],
   "source": [
    "sb1 = pd.read_csv('sb1.csv')\n",
    "sb2 = pd.read_csv('sb2.csv')\n",
    "sb3 = pd.read_csv('sb3.csv')\n",
    "sb4 = pd.read_csv('sb4.csv')\n",
    "sb5 = pd.read_csv('sb5.csv')\n",
    "sb6 = pd.read_csv('sb6.csv')"
   ]
  },
  {
   "cell_type": "code",
   "execution_count": 4,
   "metadata": {},
   "outputs": [],
   "source": [
    "jo1 = pd.read_csv('jo1.csv')\n",
    "jo2 = pd.read_csv('jo2.csv')\n",
    "jo3 = pd.read_csv('jo3.csv')\n",
    "jo4 = pd.read_csv('jo4.csv')\n",
    "jo5 = pd.read_csv('jo5.csv')\n",
    "jo6 = pd.read_csv('jo6.csv')"
   ]
  },
  {
   "cell_type": "code",
   "execution_count": 9,
   "metadata": {},
   "outputs": [],
   "source": [
    "sb = pd.concat([sb1, sb2, sb3, sb4, sb5, sb6]).reset_index()\n",
    "jo = pd.concat([jo1, jo2, jo3, jo4, jo5, jo6]).reset_index()"
   ]
  },
  {
   "cell_type": "code",
   "execution_count": 11,
   "metadata": {},
   "outputs": [
    {
     "data": {
      "text/plain": [
       "Index(['index', 'User Id', 'User Name', 'Comment Id', 'Comment Text',\n",
       "       'Profile URL', 'Avatar URL', 'Publish Date'],\n",
       "      dtype='object')"
      ]
     },
     "execution_count": 11,
     "metadata": {},
     "output_type": "execute_result"
    }
   ],
   "source": [
    "sb.columns"
   ]
  },
  {
   "cell_type": "code",
   "execution_count": 16,
   "metadata": {},
   "outputs": [],
   "source": [
    "sb = sb[['User Id', 'Comment Id', 'Comment Text', 'Publish Date']]\n",
    "jo = jo[['User Id', 'Comment Id', 'Comment Text', 'Publish Date']]"
   ]
  },
  {
   "cell_type": "code",
   "execution_count": 17,
   "metadata": {},
   "outputs": [],
   "source": [
    "sb.to_csv('../DATA/sb.csv')\n",
    "jo.to_csv('../DATA/jo.csv')"
   ]
  }
 ],
 "metadata": {
  "kernelspec": {
   "display_name": "base",
   "language": "python",
   "name": "python3"
  },
  "language_info": {
   "codemirror_mode": {
    "name": "ipython",
    "version": 3
   },
   "file_extension": ".py",
   "mimetype": "text/x-python",
   "name": "python",
   "nbconvert_exporter": "python",
   "pygments_lexer": "ipython3",
   "version": "3.11.4"
  }
 },
 "nbformat": 4,
 "nbformat_minor": 2
}
