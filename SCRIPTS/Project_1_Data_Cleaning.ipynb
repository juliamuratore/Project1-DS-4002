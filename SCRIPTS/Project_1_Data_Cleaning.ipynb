{
 "cells": [
  {
   "cell_type": "markdown",
   "metadata": {},
   "source": [
    "# Data Cleaning \n",
    "This file will combine all of the scraped data into single data sets that can be used for analysis. "
   ]
  },
  {
   "cell_type": "code",
   "execution_count": 1,
   "metadata": {},
   "outputs": [],
   "source": [
    "# import packages \n",
    "import pandas as pd "
   ]
  },
  {
   "cell_type": "code",
   "execution_count": 3,
   "metadata": {},
   "outputs": [],
   "source": [
    "# import all the simone biles csv files \n",
    "sb1 = pd.read_csv('sb1.csv')\n",
    "sb2 = pd.read_csv('sb2.csv')\n",
    "sb3 = pd.read_csv('sb3.csv')\n",
    "sb4 = pd.read_csv('sb4.csv')\n",
    "sb5 = pd.read_csv('sb5.csv')\n",
    "sb6 = pd.read_csv('sb6.csv')"
   ]
  },
  {
   "cell_type": "code",
   "execution_count": 4,
   "metadata": {},
   "outputs": [],
   "source": [
    "# import all the jonathan owens csv files \n",
    "jo1 = pd.read_csv('jo1.csv')\n",
    "jo2 = pd.read_csv('jo2.csv')\n",
    "jo3 = pd.read_csv('jo3.csv')\n",
    "jo4 = pd.read_csv('jo4.csv')\n",
    "jo5 = pd.read_csv('jo5.csv')\n",
    "jo6 = pd.read_csv('jo6.csv')"
   ]
  },
  {
   "cell_type": "code",
   "execution_count": 9,
   "metadata": {},
   "outputs": [],
   "source": [
    "# combine all the files into two data sets, one for biles and one for owens \n",
    "sb = pd.concat([sb1, sb2, sb3, sb4, sb5, sb6]).reset_index()\n",
    "jo = pd.concat([jo1, jo2, jo3, jo4, jo5, jo6]).reset_index()"
   ]
  },
  {
   "cell_type": "code",
   "execution_count": 11,
   "metadata": {},
   "outputs": [
    {
     "data": {
      "text/plain": [
       "Index(['index', 'User Id', 'User Name', 'Comment Id', 'Comment Text',\n",
       "       'Profile URL', 'Avatar URL', 'Publish Date'],\n",
       "      dtype='object')"
      ]
     },
     "execution_count": 11,
     "metadata": {},
     "output_type": "execute_result"
    }
   ],
   "source": [
    "# look at what columns exist \n",
    "sb.columns"
   ]
  },
  {
   "cell_type": "code",
   "execution_count": 16,
   "metadata": {},
   "outputs": [],
   "source": [
    "# keep only the columns we will need for the analysis \n",
    "sb = sb[['User Id', 'Comment Id', 'Comment Text', 'Publish Date']]\n",
    "jo = jo[['User Id', 'Comment Id', 'Comment Text', 'Publish Date']]"
   ]
  },
  {
   "cell_type": "code",
   "execution_count": 17,
   "metadata": {},
   "outputs": [],
   "source": [
    "# export the data sets so they can be used during analysis \n",
    "sb.to_csv('../DATA/sb.csv')\n",
    "jo.to_csv('../DATA/jo.csv')"
   ]
  }
 ],
 "metadata": {
  "kernelspec": {
   "display_name": "base",
   "language": "python",
   "name": "python3"
  },
  "language_info": {
   "codemirror_mode": {
    "name": "ipython",
    "version": 3
   },
   "file_extension": ".py",
   "mimetype": "text/x-python",
   "name": "python",
   "nbconvert_exporter": "python",
   "pygments_lexer": "ipython3",
   "version": "3.11.4"
  }
 },
 "nbformat": 4,
 "nbformat_minor": 2
}
