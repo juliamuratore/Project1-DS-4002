{
 "cells": [
  {
   "cell_type": "code",
   "execution_count": 1,
   "metadata": {},
   "outputs": [],
   "source": [
    "import pandas as pd\n",
    "import seaborn as sns\n",
    "import plotly.express as px"
   ]
  },
  {
   "cell_type": "code",
   "execution_count": 2,
   "metadata": {},
   "outputs": [],
   "source": [
    "# read in the data and drop na values \n",
    "sb = pd.read_csv('sb.csv')\n",
    "jo = pd.read_csv('jo.csv')\n",
    "sb = sb.dropna()\n",
    "jo = jo.dropna()"
   ]
  },
  {
   "cell_type": "code",
   "execution_count": 3,
   "metadata": {},
   "outputs": [
    {
     "name": "stderr",
     "output_type": "stream",
     "text": [
      "/var/folders/wq/0drp36md1ndchmcfz02rx9tw0000gn/T/ipykernel_9011/2613931049.py:2: SettingWithCopyWarning: \n",
      "A value is trying to be set on a copy of a slice from a DataFrame.\n",
      "Try using .loc[row_indexer,col_indexer] = value instead\n",
      "\n",
      "See the caveats in the documentation: https://pandas.pydata.org/pandas-docs/stable/user_guide/indexing.html#returning-a-view-versus-a-copy\n",
      "  contains_husband['Comment Text'] = 'husband'\n",
      "/var/folders/wq/0drp36md1ndchmcfz02rx9tw0000gn/T/ipykernel_9011/2613931049.py:3: SettingWithCopyWarning: \n",
      "A value is trying to be set on a copy of a slice from a DataFrame.\n",
      "Try using .loc[row_indexer,col_indexer] = value instead\n",
      "\n",
      "See the caveats in the documentation: https://pandas.pydata.org/pandas-docs/stable/user_guide/indexing.html#returning-a-view-versus-a-copy\n",
      "  contains_husband['Whose Comments'] = 'Biles'\n",
      "/var/folders/wq/0drp36md1ndchmcfz02rx9tw0000gn/T/ipykernel_9011/2613931049.py:5: SettingWithCopyWarning: \n",
      "A value is trying to be set on a copy of a slice from a DataFrame.\n",
      "Try using .loc[row_indexer,col_indexer] = value instead\n",
      "\n",
      "See the caveats in the documentation: https://pandas.pydata.org/pandas-docs/stable/user_guide/indexing.html#returning-a-view-versus-a-copy\n",
      "  contain_johnathan['Comment Text'] = 'jonathan'\n",
      "/var/folders/wq/0drp36md1ndchmcfz02rx9tw0000gn/T/ipykernel_9011/2613931049.py:6: SettingWithCopyWarning: \n",
      "A value is trying to be set on a copy of a slice from a DataFrame.\n",
      "Try using .loc[row_indexer,col_indexer] = value instead\n",
      "\n",
      "See the caveats in the documentation: https://pandas.pydata.org/pandas-docs/stable/user_guide/indexing.html#returning-a-view-versus-a-copy\n",
      "  contain_johnathan['Whose Comments'] = 'Biles'\n",
      "/var/folders/wq/0drp36md1ndchmcfz02rx9tw0000gn/T/ipykernel_9011/2613931049.py:11: SettingWithCopyWarning: \n",
      "A value is trying to be set on a copy of a slice from a DataFrame.\n",
      "Try using .loc[row_indexer,col_indexer] = value instead\n",
      "\n",
      "See the caveats in the documentation: https://pandas.pydata.org/pandas-docs/stable/user_guide/indexing.html#returning-a-view-versus-a-copy\n",
      "  contains_simone['Comment Text'] = 'simone'\n",
      "/var/folders/wq/0drp36md1ndchmcfz02rx9tw0000gn/T/ipykernel_9011/2613931049.py:12: SettingWithCopyWarning: \n",
      "A value is trying to be set on a copy of a slice from a DataFrame.\n",
      "Try using .loc[row_indexer,col_indexer] = value instead\n",
      "\n",
      "See the caveats in the documentation: https://pandas.pydata.org/pandas-docs/stable/user_guide/indexing.html#returning-a-view-versus-a-copy\n",
      "  contains_simone['Whose Comments'] = 'Owens'\n",
      "/var/folders/wq/0drp36md1ndchmcfz02rx9tw0000gn/T/ipykernel_9011/2613931049.py:15: SettingWithCopyWarning: \n",
      "A value is trying to be set on a copy of a slice from a DataFrame.\n",
      "Try using .loc[row_indexer,col_indexer] = value instead\n",
      "\n",
      "See the caveats in the documentation: https://pandas.pydata.org/pandas-docs/stable/user_guide/indexing.html#returning-a-view-versus-a-copy\n",
      "  contains_wife['Comment Text'] = 'wife'\n",
      "/var/folders/wq/0drp36md1ndchmcfz02rx9tw0000gn/T/ipykernel_9011/2613931049.py:16: SettingWithCopyWarning: \n",
      "A value is trying to be set on a copy of a slice from a DataFrame.\n",
      "Try using .loc[row_indexer,col_indexer] = value instead\n",
      "\n",
      "See the caveats in the documentation: https://pandas.pydata.org/pandas-docs/stable/user_guide/indexing.html#returning-a-view-versus-a-copy\n",
      "  contains_wife['Whose Comments'] = 'Owens'\n"
     ]
    }
   ],
   "source": [
    "# create data frames that contain only comments that include certain key words \n",
    "\n",
    "# from the simone biles comments see if husband and jonathan appear \n",
    "contains_husband = sb[sb['Comment Text'].str.lower().str.contains('husband')]\n",
    "contains_husband['Comment Text'] = 'husband'\n",
    "contains_husband['Whose Comments'] = 'Biles'\n",
    "contain_johnathan = sb[sb['Comment Text'].str.lower().str.contains('owens')]\n",
    "contain_johnathan['Comment Text'] = 'jonathan'\n",
    "contain_johnathan['Whose Comments'] = 'Biles'\n",
    "\n",
    "\n",
    "# from the jonathan owens comments see if simone and wife appear\n",
    "contains_simone = jo[jo['Comment Text'].str.lower().str.contains('simone')]\n",
    "contains_simone['Comment Text'] = 'simone'\n",
    "contains_simone['Whose Comments'] = 'Owens'\n",
    "\n",
    "contains_wife = jo[jo['Comment Text'].str.lower().str.contains('wife')]\n",
    "contains_wife['Comment Text'] = 'wife'\n",
    "contains_wife['Whose Comments'] = 'Owens'\n",
    "\n",
    "\n",
    "# combine into one data frame for graphing \n",
    "final = pd.concat([contains_husband, contains_simone, contains_wife, contain_johnathan])"
   ]
  },
  {
   "cell_type": "code",
   "execution_count": 4,
   "metadata": {},
   "outputs": [
    {
     "data": {
      "application/vnd.plotly.v1+json": {
       "config": {
        "plotlyServerURL": "https://plot.ly"
       },
       "data": [
        {
         "alignmentgroup": "True",
         "hovertemplate": "Whose Comments=Biles<br>Comment Text=%{x}<br>count=%{y}<extra></extra>",
         "legendgroup": "Biles",
         "marker": {
          "color": "#636efa",
          "pattern": {
           "shape": ""
          }
         },
         "name": "Biles",
         "offsetgroup": "Biles",
         "orientation": "v",
         "showlegend": true,
         "textposition": "auto",
         "type": "bar",
         "x": [
          "husband",
          "husband",
          "husband",
          "husband",
          "husband",
          "husband",
          "husband",
          "husband",
          "husband",
          "husband",
          "husband",
          "husband",
          "husband",
          "husband",
          "husband",
          "husband",
          "husband",
          "husband",
          "husband",
          "husband",
          "husband",
          "husband",
          "husband",
          "husband",
          "husband",
          "husband",
          "husband",
          "husband",
          "husband",
          "husband",
          "husband",
          "husband",
          "jonathan",
          "jonathan",
          "jonathan",
          "jonathan",
          "jonathan",
          "jonathan",
          "jonathan",
          "jonathan",
          "jonathan",
          "jonathan",
          "jonathan",
          "jonathan",
          "jonathan",
          "jonathan",
          "jonathan",
          "jonathan",
          "jonathan",
          "jonathan"
         ],
         "xaxis": "x",
         "y": [
          1,
          1,
          1,
          1,
          1,
          1,
          1,
          1,
          1,
          1,
          1,
          1,
          1,
          1,
          1,
          1,
          1,
          1,
          1,
          1,
          1,
          1,
          1,
          1,
          1,
          1,
          1,
          1,
          1,
          1,
          1,
          1,
          1,
          1,
          1,
          1,
          1,
          1,
          1,
          1,
          1,
          1,
          1,
          1,
          1,
          1,
          1,
          1,
          1,
          1
         ],
         "yaxis": "y"
        },
        {
         "alignmentgroup": "True",
         "hovertemplate": "Whose Comments=Owens<br>Comment Text=%{x}<br>count=%{y}<extra></extra>",
         "legendgroup": "Owens",
         "marker": {
          "color": "#EF553B",
          "pattern": {
           "shape": ""
          }
         },
         "name": "Owens",
         "offsetgroup": "Owens",
         "orientation": "v",
         "showlegend": true,
         "textposition": "auto",
         "type": "bar",
         "x": [
          "simone",
          "simone",
          "simone",
          "simone",
          "simone",
          "simone",
          "simone",
          "simone",
          "simone",
          "simone",
          "simone",
          "simone",
          "simone",
          "simone",
          "simone",
          "simone",
          "simone",
          "simone",
          "simone",
          "simone",
          "simone",
          "simone",
          "simone",
          "simone",
          "simone",
          "simone",
          "simone",
          "simone",
          "simone",
          "simone",
          "simone",
          "simone",
          "simone",
          "simone",
          "simone",
          "simone",
          "simone",
          "simone",
          "simone",
          "simone",
          "simone",
          "simone",
          "simone",
          "simone",
          "simone",
          "simone",
          "simone",
          "simone",
          "simone",
          "simone",
          "simone",
          "simone",
          "simone",
          "simone",
          "simone",
          "simone",
          "simone",
          "simone",
          "simone",
          "simone",
          "simone",
          "simone",
          "simone",
          "simone",
          "simone",
          "simone",
          "simone",
          "simone",
          "simone",
          "simone",
          "simone",
          "simone",
          "simone",
          "simone",
          "simone",
          "simone",
          "simone",
          "simone",
          "simone",
          "simone",
          "simone",
          "simone",
          "simone",
          "simone",
          "simone",
          "simone",
          "simone",
          "simone",
          "simone",
          "simone",
          "simone",
          "simone",
          "simone",
          "wife",
          "wife",
          "wife",
          "wife",
          "wife",
          "wife",
          "wife",
          "wife",
          "wife",
          "wife",
          "wife",
          "wife",
          "wife",
          "wife",
          "wife",
          "wife",
          "wife",
          "wife",
          "wife",
          "wife",
          "wife",
          "wife"
         ],
         "xaxis": "x",
         "y": [
          1,
          1,
          1,
          1,
          1,
          1,
          1,
          1,
          1,
          1,
          1,
          1,
          1,
          1,
          1,
          1,
          1,
          1,
          1,
          1,
          1,
          1,
          1,
          1,
          1,
          1,
          1,
          1,
          1,
          1,
          1,
          1,
          1,
          1,
          1,
          1,
          1,
          1,
          1,
          1,
          1,
          1,
          1,
          1,
          1,
          1,
          1,
          1,
          1,
          1,
          1,
          1,
          1,
          1,
          1,
          1,
          1,
          1,
          1,
          1,
          1,
          1,
          1,
          1,
          1,
          1,
          1,
          1,
          1,
          1,
          1,
          1,
          1,
          1,
          1,
          1,
          1,
          1,
          1,
          1,
          1,
          1,
          1,
          1,
          1,
          1,
          1,
          1,
          1,
          1,
          1,
          1,
          1,
          1,
          1,
          1,
          1,
          1,
          1,
          1,
          1,
          1,
          1,
          1,
          1,
          1,
          1,
          1,
          1,
          1,
          1,
          1,
          1,
          1,
          1
         ],
         "yaxis": "y"
        }
       ],
       "layout": {
        "barmode": "relative",
        "legend": {
         "title": {
          "text": "Whose Comments"
         },
         "tracegroupgap": 0
        },
        "margin": {
         "t": 60
        },
        "template": {
         "data": {
          "bar": [
           {
            "error_x": {
             "color": "#2a3f5f"
            },
            "error_y": {
             "color": "#2a3f5f"
            },
            "marker": {
             "line": {
              "color": "#E5ECF6",
              "width": 0.5
             },
             "pattern": {
              "fillmode": "overlay",
              "size": 10,
              "solidity": 0.2
             }
            },
            "type": "bar"
           }
          ],
          "barpolar": [
           {
            "marker": {
             "line": {
              "color": "#E5ECF6",
              "width": 0.5
             },
             "pattern": {
              "fillmode": "overlay",
              "size": 10,
              "solidity": 0.2
             }
            },
            "type": "barpolar"
           }
          ],
          "carpet": [
           {
            "aaxis": {
             "endlinecolor": "#2a3f5f",
             "gridcolor": "white",
             "linecolor": "white",
             "minorgridcolor": "white",
             "startlinecolor": "#2a3f5f"
            },
            "baxis": {
             "endlinecolor": "#2a3f5f",
             "gridcolor": "white",
             "linecolor": "white",
             "minorgridcolor": "white",
             "startlinecolor": "#2a3f5f"
            },
            "type": "carpet"
           }
          ],
          "choropleth": [
           {
            "colorbar": {
             "outlinewidth": 0,
             "ticks": ""
            },
            "type": "choropleth"
           }
          ],
          "contour": [
           {
            "colorbar": {
             "outlinewidth": 0,
             "ticks": ""
            },
            "colorscale": [
             [
              0,
              "#0d0887"
             ],
             [
              0.1111111111111111,
              "#46039f"
             ],
             [
              0.2222222222222222,
              "#7201a8"
             ],
             [
              0.3333333333333333,
              "#9c179e"
             ],
             [
              0.4444444444444444,
              "#bd3786"
             ],
             [
              0.5555555555555556,
              "#d8576b"
             ],
             [
              0.6666666666666666,
              "#ed7953"
             ],
             [
              0.7777777777777778,
              "#fb9f3a"
             ],
             [
              0.8888888888888888,
              "#fdca26"
             ],
             [
              1,
              "#f0f921"
             ]
            ],
            "type": "contour"
           }
          ],
          "contourcarpet": [
           {
            "colorbar": {
             "outlinewidth": 0,
             "ticks": ""
            },
            "type": "contourcarpet"
           }
          ],
          "heatmap": [
           {
            "colorbar": {
             "outlinewidth": 0,
             "ticks": ""
            },
            "colorscale": [
             [
              0,
              "#0d0887"
             ],
             [
              0.1111111111111111,
              "#46039f"
             ],
             [
              0.2222222222222222,
              "#7201a8"
             ],
             [
              0.3333333333333333,
              "#9c179e"
             ],
             [
              0.4444444444444444,
              "#bd3786"
             ],
             [
              0.5555555555555556,
              "#d8576b"
             ],
             [
              0.6666666666666666,
              "#ed7953"
             ],
             [
              0.7777777777777778,
              "#fb9f3a"
             ],
             [
              0.8888888888888888,
              "#fdca26"
             ],
             [
              1,
              "#f0f921"
             ]
            ],
            "type": "heatmap"
           }
          ],
          "heatmapgl": [
           {
            "colorbar": {
             "outlinewidth": 0,
             "ticks": ""
            },
            "colorscale": [
             [
              0,
              "#0d0887"
             ],
             [
              0.1111111111111111,
              "#46039f"
             ],
             [
              0.2222222222222222,
              "#7201a8"
             ],
             [
              0.3333333333333333,
              "#9c179e"
             ],
             [
              0.4444444444444444,
              "#bd3786"
             ],
             [
              0.5555555555555556,
              "#d8576b"
             ],
             [
              0.6666666666666666,
              "#ed7953"
             ],
             [
              0.7777777777777778,
              "#fb9f3a"
             ],
             [
              0.8888888888888888,
              "#fdca26"
             ],
             [
              1,
              "#f0f921"
             ]
            ],
            "type": "heatmapgl"
           }
          ],
          "histogram": [
           {
            "marker": {
             "pattern": {
              "fillmode": "overlay",
              "size": 10,
              "solidity": 0.2
             }
            },
            "type": "histogram"
           }
          ],
          "histogram2d": [
           {
            "colorbar": {
             "outlinewidth": 0,
             "ticks": ""
            },
            "colorscale": [
             [
              0,
              "#0d0887"
             ],
             [
              0.1111111111111111,
              "#46039f"
             ],
             [
              0.2222222222222222,
              "#7201a8"
             ],
             [
              0.3333333333333333,
              "#9c179e"
             ],
             [
              0.4444444444444444,
              "#bd3786"
             ],
             [
              0.5555555555555556,
              "#d8576b"
             ],
             [
              0.6666666666666666,
              "#ed7953"
             ],
             [
              0.7777777777777778,
              "#fb9f3a"
             ],
             [
              0.8888888888888888,
              "#fdca26"
             ],
             [
              1,
              "#f0f921"
             ]
            ],
            "type": "histogram2d"
           }
          ],
          "histogram2dcontour": [
           {
            "colorbar": {
             "outlinewidth": 0,
             "ticks": ""
            },
            "colorscale": [
             [
              0,
              "#0d0887"
             ],
             [
              0.1111111111111111,
              "#46039f"
             ],
             [
              0.2222222222222222,
              "#7201a8"
             ],
             [
              0.3333333333333333,
              "#9c179e"
             ],
             [
              0.4444444444444444,
              "#bd3786"
             ],
             [
              0.5555555555555556,
              "#d8576b"
             ],
             [
              0.6666666666666666,
              "#ed7953"
             ],
             [
              0.7777777777777778,
              "#fb9f3a"
             ],
             [
              0.8888888888888888,
              "#fdca26"
             ],
             [
              1,
              "#f0f921"
             ]
            ],
            "type": "histogram2dcontour"
           }
          ],
          "mesh3d": [
           {
            "colorbar": {
             "outlinewidth": 0,
             "ticks": ""
            },
            "type": "mesh3d"
           }
          ],
          "parcoords": [
           {
            "line": {
             "colorbar": {
              "outlinewidth": 0,
              "ticks": ""
             }
            },
            "type": "parcoords"
           }
          ],
          "pie": [
           {
            "automargin": true,
            "type": "pie"
           }
          ],
          "scatter": [
           {
            "fillpattern": {
             "fillmode": "overlay",
             "size": 10,
             "solidity": 0.2
            },
            "type": "scatter"
           }
          ],
          "scatter3d": [
           {
            "line": {
             "colorbar": {
              "outlinewidth": 0,
              "ticks": ""
             }
            },
            "marker": {
             "colorbar": {
              "outlinewidth": 0,
              "ticks": ""
             }
            },
            "type": "scatter3d"
           }
          ],
          "scattercarpet": [
           {
            "marker": {
             "colorbar": {
              "outlinewidth": 0,
              "ticks": ""
             }
            },
            "type": "scattercarpet"
           }
          ],
          "scattergeo": [
           {
            "marker": {
             "colorbar": {
              "outlinewidth": 0,
              "ticks": ""
             }
            },
            "type": "scattergeo"
           }
          ],
          "scattergl": [
           {
            "marker": {
             "colorbar": {
              "outlinewidth": 0,
              "ticks": ""
             }
            },
            "type": "scattergl"
           }
          ],
          "scattermapbox": [
           {
            "marker": {
             "colorbar": {
              "outlinewidth": 0,
              "ticks": ""
             }
            },
            "type": "scattermapbox"
           }
          ],
          "scatterpolar": [
           {
            "marker": {
             "colorbar": {
              "outlinewidth": 0,
              "ticks": ""
             }
            },
            "type": "scatterpolar"
           }
          ],
          "scatterpolargl": [
           {
            "marker": {
             "colorbar": {
              "outlinewidth": 0,
              "ticks": ""
             }
            },
            "type": "scatterpolargl"
           }
          ],
          "scatterternary": [
           {
            "marker": {
             "colorbar": {
              "outlinewidth": 0,
              "ticks": ""
             }
            },
            "type": "scatterternary"
           }
          ],
          "surface": [
           {
            "colorbar": {
             "outlinewidth": 0,
             "ticks": ""
            },
            "colorscale": [
             [
              0,
              "#0d0887"
             ],
             [
              0.1111111111111111,
              "#46039f"
             ],
             [
              0.2222222222222222,
              "#7201a8"
             ],
             [
              0.3333333333333333,
              "#9c179e"
             ],
             [
              0.4444444444444444,
              "#bd3786"
             ],
             [
              0.5555555555555556,
              "#d8576b"
             ],
             [
              0.6666666666666666,
              "#ed7953"
             ],
             [
              0.7777777777777778,
              "#fb9f3a"
             ],
             [
              0.8888888888888888,
              "#fdca26"
             ],
             [
              1,
              "#f0f921"
             ]
            ],
            "type": "surface"
           }
          ],
          "table": [
           {
            "cells": {
             "fill": {
              "color": "#EBF0F8"
             },
             "line": {
              "color": "white"
             }
            },
            "header": {
             "fill": {
              "color": "#C8D4E3"
             },
             "line": {
              "color": "white"
             }
            },
            "type": "table"
           }
          ]
         },
         "layout": {
          "annotationdefaults": {
           "arrowcolor": "#2a3f5f",
           "arrowhead": 0,
           "arrowwidth": 1
          },
          "autotypenumbers": "strict",
          "coloraxis": {
           "colorbar": {
            "outlinewidth": 0,
            "ticks": ""
           }
          },
          "colorscale": {
           "diverging": [
            [
             0,
             "#8e0152"
            ],
            [
             0.1,
             "#c51b7d"
            ],
            [
             0.2,
             "#de77ae"
            ],
            [
             0.3,
             "#f1b6da"
            ],
            [
             0.4,
             "#fde0ef"
            ],
            [
             0.5,
             "#f7f7f7"
            ],
            [
             0.6,
             "#e6f5d0"
            ],
            [
             0.7,
             "#b8e186"
            ],
            [
             0.8,
             "#7fbc41"
            ],
            [
             0.9,
             "#4d9221"
            ],
            [
             1,
             "#276419"
            ]
           ],
           "sequential": [
            [
             0,
             "#0d0887"
            ],
            [
             0.1111111111111111,
             "#46039f"
            ],
            [
             0.2222222222222222,
             "#7201a8"
            ],
            [
             0.3333333333333333,
             "#9c179e"
            ],
            [
             0.4444444444444444,
             "#bd3786"
            ],
            [
             0.5555555555555556,
             "#d8576b"
            ],
            [
             0.6666666666666666,
             "#ed7953"
            ],
            [
             0.7777777777777778,
             "#fb9f3a"
            ],
            [
             0.8888888888888888,
             "#fdca26"
            ],
            [
             1,
             "#f0f921"
            ]
           ],
           "sequentialminus": [
            [
             0,
             "#0d0887"
            ],
            [
             0.1111111111111111,
             "#46039f"
            ],
            [
             0.2222222222222222,
             "#7201a8"
            ],
            [
             0.3333333333333333,
             "#9c179e"
            ],
            [
             0.4444444444444444,
             "#bd3786"
            ],
            [
             0.5555555555555556,
             "#d8576b"
            ],
            [
             0.6666666666666666,
             "#ed7953"
            ],
            [
             0.7777777777777778,
             "#fb9f3a"
            ],
            [
             0.8888888888888888,
             "#fdca26"
            ],
            [
             1,
             "#f0f921"
            ]
           ]
          },
          "colorway": [
           "#636efa",
           "#EF553B",
           "#00cc96",
           "#ab63fa",
           "#FFA15A",
           "#19d3f3",
           "#FF6692",
           "#B6E880",
           "#FF97FF",
           "#FECB52"
          ],
          "font": {
           "color": "#2a3f5f"
          },
          "geo": {
           "bgcolor": "white",
           "lakecolor": "white",
           "landcolor": "#E5ECF6",
           "showlakes": true,
           "showland": true,
           "subunitcolor": "white"
          },
          "hoverlabel": {
           "align": "left"
          },
          "hovermode": "closest",
          "mapbox": {
           "style": "light"
          },
          "paper_bgcolor": "white",
          "plot_bgcolor": "#E5ECF6",
          "polar": {
           "angularaxis": {
            "gridcolor": "white",
            "linecolor": "white",
            "ticks": ""
           },
           "bgcolor": "#E5ECF6",
           "radialaxis": {
            "gridcolor": "white",
            "linecolor": "white",
            "ticks": ""
           }
          },
          "scene": {
           "xaxis": {
            "backgroundcolor": "#E5ECF6",
            "gridcolor": "white",
            "gridwidth": 2,
            "linecolor": "white",
            "showbackground": true,
            "ticks": "",
            "zerolinecolor": "white"
           },
           "yaxis": {
            "backgroundcolor": "#E5ECF6",
            "gridcolor": "white",
            "gridwidth": 2,
            "linecolor": "white",
            "showbackground": true,
            "ticks": "",
            "zerolinecolor": "white"
           },
           "zaxis": {
            "backgroundcolor": "#E5ECF6",
            "gridcolor": "white",
            "gridwidth": 2,
            "linecolor": "white",
            "showbackground": true,
            "ticks": "",
            "zerolinecolor": "white"
           }
          },
          "shapedefaults": {
           "line": {
            "color": "#2a3f5f"
           }
          },
          "ternary": {
           "aaxis": {
            "gridcolor": "white",
            "linecolor": "white",
            "ticks": ""
           },
           "baxis": {
            "gridcolor": "white",
            "linecolor": "white",
            "ticks": ""
           },
           "bgcolor": "#E5ECF6",
           "caxis": {
            "gridcolor": "white",
            "linecolor": "white",
            "ticks": ""
           }
          },
          "title": {
           "x": 0.05
          },
          "xaxis": {
           "automargin": true,
           "gridcolor": "white",
           "linecolor": "white",
           "ticks": "",
           "title": {
            "standoff": 15
           },
           "zerolinecolor": "white",
           "zerolinewidth": 2
          },
          "yaxis": {
           "automargin": true,
           "gridcolor": "white",
           "linecolor": "white",
           "ticks": "",
           "title": {
            "standoff": 15
           },
           "zerolinecolor": "white",
           "zerolinewidth": 2
          }
         }
        },
        "xaxis": {
         "anchor": "y",
         "domain": [
          0,
          1
         ],
         "title": {
          "text": "Comment Text"
         }
        },
        "yaxis": {
         "anchor": "x",
         "domain": [
          0,
          1
         ],
         "title": {
          "text": "count"
         }
        }
       }
      }
     },
     "metadata": {},
     "output_type": "display_data"
    }
   ],
   "source": [
    "# make a graph that shows where the key words show up the most \n",
    "plot = px.bar(final, x='Comment Text', color = \"Whose Comments\")\n",
    "plot"
   ]
  },
  {
   "cell_type": "code",
   "execution_count": 5,
   "metadata": {},
   "outputs": [
    {
     "name": "stderr",
     "output_type": "stream",
     "text": [
      "/var/folders/wq/0drp36md1ndchmcfz02rx9tw0000gn/T/ipykernel_9011/3729503667.py:2: UserWarning:\n",
      "\n",
      "Could not infer format, so each element will be parsed individually, falling back to `dateutil`. To ensure parsing is consistent and as-expected, please specify a format.\n",
      "\n",
      "/var/folders/wq/0drp36md1ndchmcfz02rx9tw0000gn/T/ipykernel_9011/3729503667.py:3: UserWarning:\n",
      "\n",
      "Could not infer format, so each element will be parsed individually, falling back to `dateutil`. To ensure parsing is consistent and as-expected, please specify a format.\n",
      "\n"
     ]
    },
    {
     "data": {
      "application/vnd.plotly.v1+json": {
       "config": {
        "plotlyServerURL": "https://plot.ly"
       },
       "data": [
        {
         "alignmentgroup": "True",
         "hovertemplate": "date=%{x}<br>count=%{y}<extra></extra>",
         "legendgroup": "",
         "marker": {
          "color": "#636efa",
          "pattern": {
           "shape": ""
          }
         },
         "name": "",
         "offsetgroup": "",
         "orientation": "v",
         "showlegend": false,
         "textposition": "auto",
         "type": "bar",
         "x": [
          "2023-12-25",
          "2023-12-25",
          "2023-12-25",
          "2023-12-26",
          "2023-12-27",
          "2023-12-27",
          "2023-12-28",
          "2023-12-24",
          "2023-12-24",
          "2023-12-24",
          "2023-12-24",
          "2023-12-24",
          "2023-12-24",
          "2023-12-24",
          "2023-12-25",
          "2023-12-25",
          "2023-12-25",
          "2023-12-25",
          "2023-12-25",
          "2023-12-25",
          "2023-12-25",
          "2023-12-23",
          "2023-12-23",
          "2023-12-23",
          "2023-12-23",
          "2023-12-23",
          "2023-12-23",
          "2023-12-23",
          "2023-12-23",
          "2023-12-23",
          "2023-12-23",
          "2023-12-23",
          "2023-12-23",
          "2023-12-23",
          "2023-12-23",
          "2023-12-23",
          "2023-12-24",
          "2023-12-22",
          "2023-12-22",
          "2023-12-22",
          "2023-12-22",
          "2023-12-22",
          "2023-12-22",
          "2023-12-22",
          "2023-12-22",
          "2023-12-22",
          "2023-12-22",
          "2023-12-22",
          "2023-12-22",
          "2023-12-22",
          "2023-12-22",
          "2023-12-22",
          "2023-12-22",
          "2023-12-22",
          "2023-12-22",
          "2023-12-22",
          "2023-12-22",
          "2023-12-22",
          "2023-12-22",
          "2023-12-23",
          "2023-12-21",
          "2023-12-21",
          "2023-12-21",
          "2023-12-21",
          "2023-12-21",
          "2023-12-21",
          "2023-12-21",
          "2023-12-22",
          "2023-12-22",
          "2023-12-22",
          "2023-12-22",
          "2023-12-21",
          "2023-12-21",
          "2023-12-21",
          "2023-12-21",
          "2023-12-21",
          "2023-12-21",
          "2023-12-21",
          "2023-12-21",
          "2023-12-21",
          "2023-12-21",
          "2023-12-21",
          "2023-12-21",
          "2023-12-21",
          "2023-12-21",
          "2023-12-20",
          "2023-12-21",
          "2023-12-21",
          "2023-12-21",
          "2023-12-21",
          "2023-12-21",
          "2023-12-21",
          "2023-12-21",
          "2023-12-21",
          "2023-12-21",
          "2023-12-21",
          "2023-12-21",
          "2023-12-21",
          "2023-12-21",
          "2023-12-21",
          "2023-12-29",
          "2023-12-29",
          "2023-12-29",
          "2023-12-30",
          "2023-12-28",
          "2023-12-28",
          "2023-12-29",
          "2023-12-26",
          "2023-12-27",
          "2023-12-27",
          "2023-12-27",
          "2023-12-27",
          "2023-12-26",
          "2023-12-26",
          "2023-12-26",
          "2023-12-26",
          "2023-12-26",
          "2023-12-26",
          "2023-12-26",
          "2023-12-26",
          "2023-12-26",
          "2023-12-26",
          "2023-12-26",
          "2023-12-25",
          "2023-12-25",
          "2023-12-25",
          "2023-12-25",
          "2023-12-25",
          "2023-12-25",
          "2023-12-25",
          "2023-12-25",
          "2023-12-25",
          "2023-12-26",
          "2023-12-26",
          "2023-12-26",
          "2023-12-26",
          "2023-12-26",
          "2023-12-26",
          "2023-12-25",
          "2023-12-25",
          "2023-12-25",
          "2023-12-25",
          "2023-12-25",
          "2023-12-25",
          "2023-12-25",
          "2023-12-25",
          "2023-12-25",
          "2023-12-25",
          "2023-12-25",
          "2023-12-25",
          "2023-12-25",
          "2023-12-25",
          "2023-12-25",
          "2023-12-25",
          "2023-12-25",
          "2023-12-25",
          "2023-12-25",
          "2023-12-25",
          "2023-12-25",
          "2023-12-25",
          "2023-12-25",
          "2023-12-25",
          "2023-12-25",
          "2023-12-25",
          "2023-12-25",
          "2023-12-25",
          "2023-12-25",
          "2023-12-25",
          "2023-12-25",
          "2023-12-25",
          "2023-12-24",
          "2023-12-24",
          "2023-12-24",
          "2023-12-24",
          "2023-12-24",
          "2023-12-24",
          "2023-12-24",
          "2023-12-24",
          "2023-12-25",
          "2023-12-25",
          "2023-12-25",
          "2023-12-25",
          "2023-12-25",
          "2023-12-25",
          "2023-12-24",
          "2023-12-24",
          "2023-12-24",
          "2023-12-24",
          "2023-12-24",
          "2023-12-24",
          "2023-12-24",
          "2023-12-24",
          "2023-12-24",
          "2023-12-24",
          "2023-12-24",
          "2023-12-24",
          "2023-12-24",
          "2023-12-24",
          "2023-12-24",
          "2023-12-24",
          "2023-12-31",
          "2024-01-01",
          "2024-01-01",
          "2024-01-01",
          "2024-01-01",
          "2024-01-01",
          "2024-01-01",
          "2023-12-31",
          "2023-12-31",
          "2023-12-31",
          "2023-12-31",
          "2023-12-31",
          "2023-12-31",
          "2023-12-31",
          "2023-12-30",
          "2023-12-30",
          "2023-12-30",
          "2023-12-30",
          "2023-12-30",
          "2023-12-30",
          "2023-12-30",
          "2023-12-30",
          "2023-12-30",
          "2023-12-29",
          "2023-12-29",
          "2023-12-29",
          "2023-12-29",
          "2023-12-29",
          "2023-12-29",
          "2023-12-29",
          "2023-12-29",
          "2023-12-29",
          "2023-12-29",
          "2023-12-30",
          "2023-12-29",
          "2023-12-29",
          "2023-12-29",
          "2023-12-29",
          "2023-12-29",
          "2023-12-29",
          "2023-12-29",
          "2023-12-29",
          "2023-12-29",
          "2023-12-29",
          "2023-12-29",
          "2023-12-29",
          "2023-12-29",
          "2023-12-29",
          "2023-12-28",
          "2023-12-28",
          "2023-12-28",
          "2023-12-28",
          "2023-12-28",
          "2023-12-28",
          "2023-12-28",
          "2023-12-28",
          "2023-12-28",
          "2023-12-28",
          "2023-12-28",
          "2023-12-28",
          "2023-12-28",
          "2023-12-28",
          "2023-12-28",
          "2023-12-28",
          "2023-12-28",
          "2023-12-28",
          "2023-12-28",
          "2023-12-28",
          "2023-12-28",
          "2023-12-28",
          "2023-12-28",
          "2023-12-28",
          "2023-12-28",
          "2023-12-28",
          "2023-12-28",
          "2023-12-28",
          "2023-12-28",
          "2023-12-28",
          "2023-12-28",
          "2023-12-28",
          "2023-12-28",
          "2023-12-28",
          "2023-12-28",
          "2023-12-28",
          "2023-12-28",
          "2023-12-28",
          "2023-12-28",
          "2023-12-28",
          "2023-12-28",
          "2023-12-28",
          "2023-12-28",
          "2023-12-28",
          "2023-12-28",
          "2023-12-28",
          "2023-12-28",
          "2023-12-28",
          "2023-12-28",
          "2023-12-28",
          "2023-12-28",
          "2023-12-24",
          "2023-12-24",
          "2023-12-26",
          "2023-12-28",
          "2023-12-29",
          "2023-11-03",
          "2023-11-04",
          "2023-11-23",
          "2023-11-23",
          "2023-12-01",
          "2023-12-04",
          "2023-12-04",
          "2023-12-05",
          "2023-12-21",
          "2023-12-22",
          "2023-10-08",
          "2023-10-08",
          "2023-10-13",
          "2023-10-17",
          "2023-10-18",
          "2023-10-27",
          "2023-10-30",
          "2023-09-16",
          "2023-09-20",
          "2023-10-02",
          "2023-10-03",
          "2023-10-06",
          "2023-10-07",
          "2023-10-08",
          "2023-08-28",
          "2023-08-28",
          "2023-09-01",
          "2023-09-03",
          "2023-09-04",
          "2023-09-04",
          "2023-06-16",
          "2023-06-16",
          "2023-06-17",
          "2023-06-22",
          "2023-07-14",
          "2023-07-25",
          "2023-08-06",
          "2023-08-09",
          "2023-05-18",
          "2023-05-20",
          "2023-05-20",
          "2023-05-21",
          "2023-05-22",
          "2023-05-29",
          "2023-05-29",
          "2023-05-30",
          "2023-06-12",
          "2023-06-16",
          "2023-05-08",
          "2023-05-08",
          "2023-05-08",
          "2023-05-08",
          "2023-05-08",
          "2023-05-09",
          "2023-05-10",
          "2023-05-10",
          "2023-05-10",
          "2023-05-11",
          "2023-05-12",
          "2023-05-12",
          "2023-05-14",
          "2023-05-14",
          "2023-05-14",
          "2023-05-15",
          "2023-05-16",
          "2023-04-25",
          "2023-04-25",
          "2023-04-26",
          "2023-04-26",
          "2023-04-26",
          "2023-04-28",
          "2023-04-28",
          "2023-05-03",
          "2023-05-03",
          "2023-05-04",
          "2023-05-04",
          "2023-04-23",
          "2023-04-23",
          "2023-04-23",
          "2023-04-23",
          "2023-04-23",
          "2023-04-23",
          "2023-04-23",
          "2023-04-23",
          "2023-04-23",
          "2023-04-23",
          "2023-04-23",
          "2023-04-23",
          "2023-04-23",
          "2023-04-23",
          "2023-04-24",
          "2023-04-24",
          "2023-04-25",
          "2023-04-11",
          "2023-04-14",
          "2023-12-26",
          "2023-12-27",
          "2023-12-27",
          "2023-12-28",
          "2023-12-28",
          "2023-12-31",
          "2024-01-01",
          "2024-01-01",
          "2023-12-24",
          "2023-12-24",
          "2023-12-26",
          "2023-12-23",
          "2023-12-23",
          "2023-12-24",
          "2023-12-03",
          "2023-12-12",
          "2023-12-12",
          "2023-12-15",
          "2023-12-22",
          "2023-12-22",
          "2023-12-22",
          "2023-12-22",
          "2023-10-31",
          "2023-11-03",
          "2023-11-10",
          "2023-12-02",
          "2023-10-10",
          "2023-10-11",
          "2023-10-12",
          "2023-10-13",
          "2023-10-20",
          "2023-10-21",
          "2023-10-22",
          "2023-10-22",
          "2023-09-15",
          "2023-09-16",
          "2023-09-17",
          "2023-09-20",
          "2023-09-22",
          "2023-10-01",
          "2023-10-02",
          "2023-10-06",
          "2023-10-06",
          "2023-10-07",
          "2023-10-08",
          "2023-10-08",
          "2023-08-27",
          "2023-09-01",
          "2023-09-02",
          "2023-09-03",
          "2023-09-03",
          "2023-09-03",
          "2023-08-05",
          "2023-08-06",
          "2023-08-06",
          "2023-08-06",
          "2023-08-06",
          "2023-08-07",
          "2023-08-07",
          "2023-08-07",
          "2023-08-07",
          "2023-08-08",
          "2023-08-14",
          "2023-08-15",
          "2023-06-28",
          "2023-06-28",
          "2023-06-29",
          "2023-06-30",
          "2023-06-30",
          "2023-07-15",
          "2023-07-16",
          "2023-07-20",
          "2023-07-21",
          "2023-07-26",
          "2023-07-30",
          "2023-05-30",
          "2023-05-30",
          "2023-06-06",
          "2023-06-11",
          "2023-06-14",
          "2023-06-14",
          "2023-06-16",
          "2023-06-16",
          "2023-05-25",
          "2023-05-27",
          "2023-05-27",
          "2023-05-27",
          "2023-05-27",
          "2023-05-28",
          "2023-05-28",
          "2023-05-20",
          "2023-05-20",
          "2023-05-20",
          "2023-05-21",
          "2023-05-16",
          "2023-05-17",
          "2023-05-17",
          "2023-05-18",
          "2023-05-18",
          "2023-05-15",
          "2023-12-29",
          "2023-12-28",
          "2023-12-27",
          "2023-12-27",
          "2023-12-28",
          "2023-12-28",
          "2023-12-28",
          "2023-12-28",
          "2023-12-28",
          "2023-12-27",
          "2023-12-27",
          "2023-12-27",
          "2023-12-27",
          "2023-12-27",
          "2023-12-26",
          "2023-12-26",
          "2023-12-26",
          "2023-12-26",
          "2023-12-26",
          "2023-12-25",
          "2023-12-25",
          "2023-12-25",
          "2023-12-26",
          "2023-12-26",
          "2023-12-24",
          "2023-12-24",
          "2023-12-24",
          "2023-12-24",
          "2023-12-24",
          "2023-12-24",
          "2023-12-24",
          "2023-12-24",
          "2023-12-23",
          "2023-12-23",
          "2023-12-23",
          "2023-12-23",
          "2023-12-23",
          "2023-12-23",
          "2023-12-23",
          "2023-12-23",
          "2023-12-23",
          "2023-12-23",
          "2023-12-22",
          "2023-12-22",
          "2023-12-22",
          "2023-12-22",
          "2023-12-22",
          "2023-12-23",
          "2023-12-04",
          "2023-12-08",
          "2023-12-12",
          "2023-12-12",
          "2023-12-19",
          "2023-12-19",
          "2023-12-19",
          "2023-11-04",
          "2023-11-11",
          "2023-11-14",
          "2023-11-14",
          "2023-11-16",
          "2023-11-18",
          "2023-11-19",
          "2023-11-21",
          "2023-10-18",
          "2023-10-19",
          "2023-10-21",
          "2023-10-24",
          "2023-10-25",
          "2023-10-30",
          "2023-10-12",
          "2023-10-13",
          "2023-10-15",
          "2023-10-18",
          "2023-10-18",
          "2023-10-08",
          "2023-10-08",
          "2023-10-08",
          "2023-10-08",
          "2023-10-08",
          "2023-10-08",
          "2023-10-08",
          "2023-10-08",
          "2023-10-09",
          "2023-10-06",
          "2023-10-06",
          "2023-10-06",
          "2023-10-07",
          "2023-10-07",
          "2023-10-07",
          "2023-10-07",
          "2023-09-27",
          "2023-09-29",
          "2023-09-30",
          "2023-09-30",
          "2023-10-01",
          "2023-10-02",
          "2023-10-02",
          "2023-10-02",
          "2023-10-04",
          "2024-01-03",
          "2024-01-03",
          "2024-01-03",
          "2024-01-03",
          "2024-01-03",
          "2024-01-03",
          "2024-01-03",
          "2024-01-03",
          "2024-01-03",
          "2024-01-03",
          "2024-01-03",
          "2024-01-04",
          "2024-01-04",
          "2024-01-04",
          "2024-01-04",
          "2024-01-04",
          "2024-01-04",
          "2024-01-04",
          "2024-01-04",
          "2024-01-04",
          "2024-01-04",
          "2024-01-04",
          "2024-01-05",
          "2024-01-07",
          "2024-01-08",
          "2024-01-10",
          "2024-01-10",
          "2024-01-10",
          "2024-01-10",
          "2024-01-11",
          "2024-01-11",
          "2024-01-11",
          "2024-01-12",
          "2024-01-12",
          "2024-01-12",
          "2024-01-12",
          "2024-01-13",
          "2024-01-14",
          "2024-01-14",
          "2024-01-14",
          "2024-01-15",
          "2024-01-20",
          "2024-01-21",
          "2024-01-21",
          "2024-01-26",
          "2024-01-30",
          "2024-02-03",
          "2023-12-31",
          "2023-12-31",
          "2023-12-31",
          "2023-12-31",
          "2023-12-31",
          "2023-12-31",
          "2023-12-31",
          "2023-12-31",
          "2023-12-31",
          "2023-12-31",
          "2023-12-31",
          "2023-12-31",
          "2023-12-31",
          "2023-12-31",
          "2023-12-31",
          "2023-12-31",
          "2023-12-31",
          "2023-12-31",
          "2023-12-31",
          "2023-12-31",
          "2023-12-31",
          "2023-12-31",
          "2023-12-31",
          "2023-12-31",
          "2024-01-01",
          "2024-01-01",
          "2024-01-01",
          "2024-01-01",
          "2024-01-01",
          "2024-01-01",
          "2024-01-01",
          "2024-01-01",
          "2024-01-01",
          "2024-01-01",
          "2024-01-02",
          "2024-01-02",
          "2024-01-02",
          "2024-01-02",
          "2024-01-02",
          "2024-01-02",
          "2024-01-02",
          "2024-01-02",
          "2024-01-03",
          "2024-01-03",
          "2024-01-03",
          "2024-01-03",
          "2024-01-03",
          "2024-01-03",
          "2024-01-03",
          "2024-01-03",
          "2023-12-28",
          "2023-12-28",
          "2023-12-28",
          "2024-01-06",
          "2024-01-06",
          "2024-01-07",
          "2024-01-07",
          "2024-01-07",
          "2024-01-08",
          "2024-01-08",
          "2024-01-08",
          "2024-01-08",
          "2024-01-08",
          "2024-01-08",
          "2024-01-08",
          "2024-01-08",
          "2024-01-08",
          "2024-01-08",
          "2024-01-08",
          "2024-01-09",
          "2024-01-11",
          "2024-01-11",
          "2024-01-11",
          "2024-01-11",
          "2024-01-11",
          "2024-01-11",
          "2024-01-12",
          "2024-01-12",
          "2024-01-13",
          "2024-01-13",
          "2024-01-14",
          "2024-01-14",
          "2024-01-14",
          "2024-01-14",
          "2024-01-14",
          "2024-01-14",
          "2024-01-14",
          "2024-01-14",
          "2024-01-15",
          "2024-01-15",
          "2024-01-16",
          "2024-01-17",
          "2024-01-17",
          "2024-01-17",
          "2024-01-19",
          "2024-01-19",
          "2024-01-19",
          "2024-01-20",
          "2024-01-22",
          "2024-01-25",
          "2024-01-27",
          "2024-01-02",
          "2024-01-02",
          "2024-01-02",
          "2024-01-02",
          "2024-01-02",
          "2024-01-02",
          "2024-01-02",
          "2024-01-02",
          "2024-01-02",
          "2024-01-02",
          "2024-01-03",
          "2024-01-03",
          "2024-01-03",
          "2024-01-03",
          "2024-01-03",
          "2024-01-03",
          "2024-01-03",
          "2024-01-03",
          "2024-01-03",
          "2024-01-03",
          "2024-01-03",
          "2024-01-03",
          "2024-01-03",
          "2024-01-03",
          "2024-01-03",
          "2024-01-03",
          "2024-01-03",
          "2024-01-03",
          "2024-01-03",
          "2024-01-03",
          "2024-01-03",
          "2024-01-03",
          "2024-01-04",
          "2024-01-04",
          "2024-01-04",
          "2024-01-04",
          "2024-01-04",
          "2024-01-04",
          "2024-01-04",
          "2024-01-04",
          "2024-01-04",
          "2024-01-04",
          "2024-01-04",
          "2024-01-04",
          "2024-01-05",
          "2024-01-05",
          "2024-01-05",
          "2024-01-05",
          "2024-01-05",
          "2024-01-01",
          "2024-01-01",
          "2024-01-10",
          "2024-01-10",
          "2024-01-10",
          "2024-01-11",
          "2024-01-11",
          "2024-01-11",
          "2024-01-11",
          "2024-01-11",
          "2024-01-11",
          "2024-01-11",
          "2024-01-11",
          "2024-01-11",
          "2024-01-11",
          "2024-01-11",
          "2024-01-11",
          "2024-01-11",
          "2024-01-12",
          "2024-01-12",
          "2024-01-12",
          "2024-01-14",
          "2024-01-14",
          "2024-01-15",
          "2024-01-15",
          "2024-01-15",
          "2024-01-15",
          "2024-01-15",
          "2024-01-15",
          "2024-01-16",
          "2024-01-16",
          "2024-01-16",
          "2024-01-16",
          "2024-01-16",
          "2024-01-16",
          "2024-01-16",
          "2024-01-16",
          "2024-01-16",
          "2024-01-16",
          "2024-01-16",
          "2024-01-16",
          "2024-01-16",
          "2024-01-16",
          "2024-01-16",
          "2024-01-16",
          "2024-01-19",
          "2024-01-20",
          "2024-01-22",
          "2024-01-29",
          "2024-02-03",
          "2024-01-06",
          "2024-01-07",
          "2024-01-07",
          "2024-01-07",
          "2024-01-07",
          "2024-01-07",
          "2024-01-07",
          "2024-01-07",
          "2024-01-07",
          "2024-01-07",
          "2024-01-07",
          "2024-01-07",
          "2024-01-07",
          "2024-01-07",
          "2024-01-07",
          "2024-01-07",
          "2024-01-07",
          "2024-01-07",
          "2024-01-07",
          "2024-01-07",
          "2024-01-07",
          "2024-01-07",
          "2024-01-07",
          "2024-01-08",
          "2024-01-08",
          "2024-01-08",
          "2024-01-08",
          "2024-01-08",
          "2024-01-08",
          "2024-01-08",
          "2024-01-08",
          "2024-01-08",
          "2024-01-08",
          "2024-01-08",
          "2024-01-08",
          "2024-01-08",
          "2024-01-08",
          "2024-01-08",
          "2024-01-08",
          "2024-01-08",
          "2024-01-09",
          "2024-01-09",
          "2024-01-10",
          "2024-01-04",
          "2024-01-04",
          "2024-01-04",
          "2024-01-04",
          "2024-01-04",
          "2024-01-04",
          "2024-01-04",
          "2024-01-04",
          "2024-01-04",
          "2023-12-28",
          "2023-12-28",
          "2023-12-28",
          "2023-12-28",
          "2023-12-28",
          "2023-12-28",
          "2023-12-28",
          "2023-12-28",
          "2023-12-28",
          "2023-12-28",
          "2023-12-28",
          "2023-12-28",
          "2023-12-28",
          "2023-12-28",
          "2023-12-29",
          "2023-12-29",
          "2023-12-29",
          "2023-12-29",
          "2023-12-29",
          "2023-12-29",
          "2023-12-30",
          "2023-12-30",
          "2023-12-30",
          "2023-12-30",
          "2023-12-31",
          "2023-12-31",
          "2024-01-01",
          "2024-01-02",
          "2024-01-03",
          "2024-01-05",
          "2024-01-06",
          "2024-01-08",
          "2024-01-10",
          "2024-01-10",
          "2024-01-10",
          "2024-01-11",
          "2024-01-11",
          "2024-01-16",
          "2024-01-17",
          "2024-01-19",
          "2024-01-19",
          "2024-01-20",
          "2024-01-21",
          "2024-01-25",
          "2024-01-25",
          "2024-01-25",
          "2024-01-26",
          "2023-12-23",
          "2023-12-23",
          "2023-12-23",
          "2023-12-23",
          "2023-12-24",
          "2023-12-24",
          "2023-12-24",
          "2023-12-24",
          "2023-12-24",
          "2023-12-24",
          "2023-12-24",
          "2023-12-24",
          "2023-12-24",
          "2023-12-24",
          "2023-12-24",
          "2023-12-24",
          "2023-12-24",
          "2023-12-24",
          "2023-12-24",
          "2023-12-24",
          "2023-12-24",
          "2023-12-24",
          "2023-12-24",
          "2023-12-24",
          "2023-12-24",
          "2023-12-24",
          "2023-12-24",
          "2023-12-24",
          "2023-12-24",
          "2023-12-24",
          "2023-12-24",
          "2023-12-25",
          "2023-12-26",
          "2023-12-26",
          "2023-12-27",
          "2023-12-27",
          "2023-12-27",
          "2023-12-27",
          "2023-12-27",
          "2023-12-27",
          "2023-12-27",
          "2023-12-27",
          "2023-12-27",
          "2023-12-28",
          "2023-12-28",
          "2023-12-23",
          "2023-12-23",
          "2023-12-23",
          "2023-12-23",
          "2023-12-23",
          "2023-12-23",
          "2023-12-23",
          "2024-01-23",
          "2024-01-23",
          "2024-01-23",
          "2024-01-23",
          "2024-01-23",
          "2024-01-23",
          "2024-01-23",
          "2024-01-24",
          "2024-01-24",
          "2024-01-24",
          "2024-01-24",
          "2024-01-24",
          "2024-01-24",
          "2024-01-24",
          "2024-01-24",
          "2024-01-24",
          "2024-01-24",
          "2024-01-24",
          "2024-01-24",
          "2024-01-24",
          "2024-01-24",
          "2024-01-24",
          "2024-01-24",
          "2024-01-24",
          "2024-01-24",
          "2024-01-24",
          "2024-01-24",
          "2024-01-24",
          "2024-01-24",
          "2024-01-24",
          "2024-01-24",
          "2024-01-24",
          "2024-01-24",
          "2024-01-24",
          "2024-01-24",
          "2024-01-25",
          "2024-01-25",
          "2024-01-25",
          "2024-01-25",
          "2024-01-25",
          "2024-01-26",
          "2024-01-27",
          "2024-01-27",
          "2024-01-29",
          "2024-01-29",
          "2024-02-04",
          "2024-02-06",
          "2024-01-13",
          "2024-01-13",
          "2024-01-14",
          "2024-01-14",
          "2024-01-14",
          "2024-01-15",
          "2024-01-15",
          "2024-01-15",
          "2024-01-15",
          "2024-01-16",
          "2024-01-16",
          "2024-01-16",
          "2024-01-17",
          "2024-01-18",
          "2024-01-18",
          "2024-01-18",
          "2024-01-18",
          "2024-01-19",
          "2024-01-20",
          "2024-01-20",
          "2024-01-20",
          "2024-01-20",
          "2024-01-20",
          "2024-01-21",
          "2024-01-21",
          "2024-01-22",
          "2024-01-22",
          "2024-01-22",
          "2024-01-22",
          "2024-01-22",
          "2024-01-22",
          "2024-01-22",
          "2024-01-22",
          "2024-01-22",
          "2024-01-22",
          "2024-01-22",
          "2024-01-22",
          "2024-01-22",
          "2024-01-22",
          "2024-01-23",
          "2024-01-23",
          "2024-01-23",
          "2024-01-23",
          "2024-01-23",
          "2024-01-23",
          "2024-01-23",
          "2024-01-05",
          "2024-01-05",
          "2024-01-05",
          "2024-01-05",
          "2024-01-05",
          "2024-01-06",
          "2024-01-20",
          "2024-01-20",
          "2024-01-20",
          "2024-01-21",
          "2024-01-21",
          "2024-01-21",
          "2024-01-21",
          "2024-01-21",
          "2024-01-22",
          "2024-01-22",
          "2024-01-22",
          "2024-01-23",
          "2024-01-23",
          "2024-01-23",
          "2024-01-23",
          "2024-01-23",
          "2024-01-23",
          "2024-01-24",
          "2024-01-24",
          "2024-01-24",
          "2024-01-24",
          "2024-01-24",
          "2024-01-24",
          "2024-01-24",
          "2024-01-24",
          "2024-01-25",
          "2024-01-25",
          "2024-01-25",
          "2024-01-25",
          "2024-01-25",
          "2024-01-25",
          "2024-01-25",
          "2024-01-25",
          "2024-01-25",
          "2024-01-26",
          "2024-01-26",
          "2024-01-26",
          "2024-01-27",
          "2024-01-27",
          "2024-01-27",
          "2024-01-30",
          "2024-01-30",
          "2024-01-30",
          "2024-02-01",
          "2024-02-01",
          "2024-02-04",
          "2024-02-05",
          "2024-01-13",
          "2024-01-13",
          "2024-01-14",
          "2024-01-14",
          "2024-01-14",
          "2024-01-14",
          "2024-01-14",
          "2024-01-15",
          "2024-01-15",
          "2024-01-15",
          "2024-01-15",
          "2024-01-15",
          "2024-01-16",
          "2024-01-16",
          "2024-01-16",
          "2024-01-16",
          "2024-01-16",
          "2024-01-16",
          "2024-01-16",
          "2024-01-16",
          "2024-01-17",
          "2024-01-17",
          "2024-01-18",
          "2024-01-18",
          "2024-01-18",
          "2024-01-18",
          "2024-01-18",
          "2024-01-18",
          "2024-01-18",
          "2024-01-18",
          "2024-01-18",
          "2024-01-18",
          "2024-01-18",
          "2024-01-19",
          "2024-01-19",
          "2024-01-19",
          "2024-01-19",
          "2024-01-20",
          "2024-01-20",
          "2024-01-20",
          "2024-01-20",
          "2024-01-20",
          "2024-01-20",
          "2024-01-20",
          "2024-01-20",
          "2024-01-20",
          "2024-01-20",
          "2024-01-20",
          "2024-01-20",
          "2024-01-05",
          "2024-01-06",
          "2024-01-06",
          "2024-01-06"
         ],
         "xaxis": "x",
         "y": [
          1,
          1,
          1,
          1,
          1,
          1,
          1,
          1,
          1,
          1,
          1,
          1,
          1,
          1,
          1,
          1,
          1,
          1,
          1,
          1,
          1,
          1,
          1,
          1,
          1,
          1,
          1,
          1,
          1,
          1,
          1,
          1,
          1,
          1,
          1,
          1,
          1,
          1,
          1,
          1,
          1,
          1,
          1,
          1,
          1,
          1,
          1,
          1,
          1,
          1,
          1,
          1,
          1,
          1,
          1,
          1,
          1,
          1,
          1,
          1,
          1,
          1,
          1,
          1,
          1,
          1,
          1,
          1,
          1,
          1,
          1,
          1,
          1,
          1,
          1,
          1,
          1,
          1,
          1,
          1,
          1,
          1,
          1,
          1,
          1,
          1,
          1,
          1,
          1,
          1,
          1,
          1,
          1,
          1,
          1,
          1,
          1,
          1,
          1,
          1,
          1,
          1,
          1,
          1,
          1,
          1,
          1,
          1,
          1,
          1,
          1,
          1,
          1,
          1,
          1,
          1,
          1,
          1,
          1,
          1,
          1,
          1,
          1,
          1,
          1,
          1,
          1,
          1,
          1,
          1,
          1,
          1,
          1,
          1,
          1,
          1,
          1,
          1,
          1,
          1,
          1,
          1,
          1,
          1,
          1,
          1,
          1,
          1,
          1,
          1,
          1,
          1,
          1,
          1,
          1,
          1,
          1,
          1,
          1,
          1,
          1,
          1,
          1,
          1,
          1,
          1,
          1,
          1,
          1,
          1,
          1,
          1,
          1,
          1,
          1,
          1,
          1,
          1,
          1,
          1,
          1,
          1,
          1,
          1,
          1,
          1,
          1,
          1,
          1,
          1,
          1,
          1,
          1,
          1,
          1,
          1,
          1,
          1,
          1,
          1,
          1,
          1,
          1,
          1,
          1,
          1,
          1,
          1,
          1,
          1,
          1,
          1,
          1,
          1,
          1,
          1,
          1,
          1,
          1,
          1,
          1,
          1,
          1,
          1,
          1,
          1,
          1,
          1,
          1,
          1,
          1,
          1,
          1,
          1,
          1,
          1,
          1,
          1,
          1,
          1,
          1,
          1,
          1,
          1,
          1,
          1,
          1,
          1,
          1,
          1,
          1,
          1,
          1,
          1,
          1,
          1,
          1,
          1,
          1,
          1,
          1,
          1,
          1,
          1,
          1,
          1,
          1,
          1,
          1,
          1,
          1,
          1,
          1,
          1,
          1,
          1,
          1,
          1,
          1,
          1,
          1,
          1,
          1,
          1,
          1,
          1,
          1,
          1,
          1,
          1,
          1,
          1,
          1,
          1,
          1,
          1,
          1,
          1,
          1,
          1,
          1,
          1,
          1,
          1,
          1,
          1,
          1,
          1,
          1,
          1,
          1,
          1,
          1,
          1,
          1,
          1,
          1,
          1,
          1,
          1,
          1,
          1,
          1,
          1,
          1,
          1,
          1,
          1,
          1,
          1,
          1,
          1,
          1,
          1,
          1,
          1,
          1,
          1,
          1,
          1,
          1,
          1,
          1,
          1,
          1,
          1,
          1,
          1,
          1,
          1,
          1,
          1,
          1,
          1,
          1,
          1,
          1,
          1,
          1,
          1,
          1,
          1,
          1,
          1,
          1,
          1,
          1,
          1,
          1,
          1,
          1,
          1,
          1,
          1,
          1,
          1,
          1,
          1,
          1,
          1,
          1,
          1,
          1,
          1,
          1,
          1,
          1,
          1,
          1,
          1,
          1,
          1,
          1,
          1,
          1,
          1,
          1,
          1,
          1,
          1,
          1,
          1,
          1,
          1,
          1,
          1,
          1,
          1,
          1,
          1,
          1,
          1,
          1,
          1,
          1,
          1,
          1,
          1,
          1,
          1,
          1,
          1,
          1,
          1,
          1,
          1,
          1,
          1,
          1,
          1,
          1,
          1,
          1,
          1,
          1,
          1,
          1,
          1,
          1,
          1,
          1,
          1,
          1,
          1,
          1,
          1,
          1,
          1,
          1,
          1,
          1,
          1,
          1,
          1,
          1,
          1,
          1,
          1,
          1,
          1,
          1,
          1,
          1,
          1,
          1,
          1,
          1,
          1,
          1,
          1,
          1,
          1,
          1,
          1,
          1,
          1,
          1,
          1,
          1,
          1,
          1,
          1,
          1,
          1,
          1,
          1,
          1,
          1,
          1,
          1,
          1,
          1,
          1,
          1,
          1,
          1,
          1,
          1,
          1,
          1,
          1,
          1,
          1,
          1,
          1,
          1,
          1,
          1,
          1,
          1,
          1,
          1,
          1,
          1,
          1,
          1,
          1,
          1,
          1,
          1,
          1,
          1,
          1,
          1,
          1,
          1,
          1,
          1,
          1,
          1,
          1,
          1,
          1,
          1,
          1,
          1,
          1,
          1,
          1,
          1,
          1,
          1,
          1,
          1,
          1,
          1,
          1,
          1,
          1,
          1,
          1,
          1,
          1,
          1,
          1,
          1,
          1,
          1,
          1,
          1,
          1,
          1,
          1,
          1,
          1,
          1,
          1,
          1,
          1,
          1,
          1,
          1,
          1,
          1,
          1,
          1,
          1,
          1,
          1,
          1,
          1,
          1,
          1,
          1,
          1,
          1,
          1,
          1,
          1,
          1,
          1,
          1,
          1,
          1,
          1,
          1,
          1,
          1,
          1,
          1,
          1,
          1,
          1,
          1,
          1,
          1,
          1,
          1,
          1,
          1,
          1,
          1,
          1,
          1,
          1,
          1,
          1,
          1,
          1,
          1,
          1,
          1,
          1,
          1,
          1,
          1,
          1,
          1,
          1,
          1,
          1,
          1,
          1,
          1,
          1,
          1,
          1,
          1,
          1,
          1,
          1,
          1,
          1,
          1,
          1,
          1,
          1,
          1,
          1,
          1,
          1,
          1,
          1,
          1,
          1,
          1,
          1,
          1,
          1,
          1,
          1,
          1,
          1,
          1,
          1,
          1,
          1,
          1,
          1,
          1,
          1,
          1,
          1,
          1,
          1,
          1,
          1,
          1,
          1,
          1,
          1,
          1,
          1,
          1,
          1,
          1,
          1,
          1,
          1,
          1,
          1,
          1,
          1,
          1,
          1,
          1,
          1,
          1,
          1,
          1,
          1,
          1,
          1,
          1,
          1,
          1,
          1,
          1,
          1,
          1,
          1,
          1,
          1,
          1,
          1,
          1,
          1,
          1,
          1,
          1,
          1,
          1,
          1,
          1,
          1,
          1,
          1,
          1,
          1,
          1,
          1,
          1,
          1,
          1,
          1,
          1,
          1,
          1,
          1,
          1,
          1,
          1,
          1,
          1,
          1,
          1,
          1,
          1,
          1,
          1,
          1,
          1,
          1,
          1,
          1,
          1,
          1,
          1,
          1,
          1,
          1,
          1,
          1,
          1,
          1,
          1,
          1,
          1,
          1,
          1,
          1,
          1,
          1,
          1,
          1,
          1,
          1,
          1,
          1,
          1,
          1,
          1,
          1,
          1,
          1,
          1,
          1,
          1,
          1,
          1,
          1,
          1,
          1,
          1,
          1,
          1,
          1,
          1,
          1,
          1,
          1,
          1,
          1,
          1,
          1,
          1,
          1,
          1,
          1,
          1,
          1,
          1,
          1,
          1,
          1,
          1,
          1,
          1,
          1,
          1,
          1,
          1,
          1,
          1,
          1,
          1,
          1,
          1,
          1,
          1,
          1,
          1,
          1,
          1,
          1,
          1,
          1,
          1,
          1,
          1,
          1,
          1,
          1,
          1,
          1,
          1,
          1,
          1,
          1,
          1,
          1,
          1,
          1,
          1,
          1,
          1,
          1,
          1,
          1,
          1,
          1,
          1,
          1,
          1,
          1,
          1,
          1,
          1,
          1,
          1,
          1,
          1,
          1,
          1,
          1,
          1,
          1,
          1,
          1,
          1,
          1,
          1,
          1,
          1,
          1,
          1,
          1,
          1,
          1,
          1,
          1,
          1,
          1,
          1,
          1,
          1,
          1,
          1,
          1,
          1,
          1,
          1,
          1,
          1,
          1,
          1,
          1,
          1,
          1,
          1,
          1,
          1,
          1,
          1,
          1,
          1,
          1,
          1,
          1,
          1,
          1,
          1,
          1,
          1,
          1,
          1,
          1,
          1,
          1,
          1,
          1,
          1,
          1,
          1,
          1,
          1,
          1,
          1,
          1,
          1,
          1,
          1,
          1,
          1,
          1,
          1,
          1,
          1,
          1,
          1,
          1,
          1,
          1,
          1,
          1,
          1,
          1,
          1,
          1,
          1,
          1,
          1,
          1,
          1,
          1,
          1,
          1,
          1,
          1,
          1,
          1,
          1,
          1,
          1,
          1,
          1,
          1,
          1,
          1,
          1,
          1,
          1,
          1,
          1,
          1,
          1,
          1,
          1,
          1,
          1,
          1,
          1,
          1,
          1,
          1,
          1,
          1,
          1,
          1,
          1,
          1,
          1,
          1,
          1,
          1,
          1,
          1,
          1,
          1,
          1,
          1,
          1,
          1,
          1,
          1,
          1,
          1,
          1,
          1,
          1,
          1,
          1,
          1,
          1,
          1,
          1,
          1,
          1,
          1,
          1,
          1,
          1,
          1,
          1,
          1,
          1,
          1,
          1,
          1,
          1,
          1,
          1,
          1,
          1,
          1,
          1,
          1,
          1,
          1,
          1,
          1,
          1,
          1,
          1,
          1,
          1,
          1,
          1,
          1,
          1,
          1,
          1,
          1,
          1,
          1,
          1,
          1,
          1,
          1,
          1,
          1,
          1,
          1,
          1,
          1,
          1,
          1,
          1,
          1,
          1,
          1,
          1,
          1,
          1,
          1,
          1,
          1,
          1,
          1,
          1,
          1,
          1,
          1,
          1,
          1,
          1,
          1,
          1,
          1,
          1,
          1,
          1,
          1,
          1,
          1,
          1,
          1,
          1,
          1,
          1,
          1,
          1,
          1,
          1,
          1,
          1,
          1,
          1,
          1,
          1,
          1,
          1,
          1,
          1,
          1,
          1,
          1,
          1,
          1,
          1,
          1,
          1,
          1,
          1,
          1,
          1,
          1,
          1,
          1,
          1,
          1,
          1,
          1,
          1,
          1,
          1,
          1,
          1,
          1,
          1,
          1,
          1,
          1,
          1,
          1,
          1,
          1,
          1,
          1,
          1,
          1,
          1,
          1,
          1,
          1,
          1,
          1,
          1,
          1,
          1,
          1,
          1,
          1,
          1,
          1,
          1,
          1,
          1,
          1,
          1,
          1,
          1,
          1,
          1,
          1,
          1,
          1,
          1,
          1,
          1,
          1,
          1,
          1,
          1,
          1
         ],
         "yaxis": "y"
        }
       ],
       "layout": {
        "barmode": "relative",
        "legend": {
         "tracegroupgap": 0
        },
        "margin": {
         "t": 60
        },
        "template": {
         "data": {
          "bar": [
           {
            "error_x": {
             "color": "#2a3f5f"
            },
            "error_y": {
             "color": "#2a3f5f"
            },
            "marker": {
             "line": {
              "color": "#E5ECF6",
              "width": 0.5
             },
             "pattern": {
              "fillmode": "overlay",
              "size": 10,
              "solidity": 0.2
             }
            },
            "type": "bar"
           }
          ],
          "barpolar": [
           {
            "marker": {
             "line": {
              "color": "#E5ECF6",
              "width": 0.5
             },
             "pattern": {
              "fillmode": "overlay",
              "size": 10,
              "solidity": 0.2
             }
            },
            "type": "barpolar"
           }
          ],
          "carpet": [
           {
            "aaxis": {
             "endlinecolor": "#2a3f5f",
             "gridcolor": "white",
             "linecolor": "white",
             "minorgridcolor": "white",
             "startlinecolor": "#2a3f5f"
            },
            "baxis": {
             "endlinecolor": "#2a3f5f",
             "gridcolor": "white",
             "linecolor": "white",
             "minorgridcolor": "white",
             "startlinecolor": "#2a3f5f"
            },
            "type": "carpet"
           }
          ],
          "choropleth": [
           {
            "colorbar": {
             "outlinewidth": 0,
             "ticks": ""
            },
            "type": "choropleth"
           }
          ],
          "contour": [
           {
            "colorbar": {
             "outlinewidth": 0,
             "ticks": ""
            },
            "colorscale": [
             [
              0,
              "#0d0887"
             ],
             [
              0.1111111111111111,
              "#46039f"
             ],
             [
              0.2222222222222222,
              "#7201a8"
             ],
             [
              0.3333333333333333,
              "#9c179e"
             ],
             [
              0.4444444444444444,
              "#bd3786"
             ],
             [
              0.5555555555555556,
              "#d8576b"
             ],
             [
              0.6666666666666666,
              "#ed7953"
             ],
             [
              0.7777777777777778,
              "#fb9f3a"
             ],
             [
              0.8888888888888888,
              "#fdca26"
             ],
             [
              1,
              "#f0f921"
             ]
            ],
            "type": "contour"
           }
          ],
          "contourcarpet": [
           {
            "colorbar": {
             "outlinewidth": 0,
             "ticks": ""
            },
            "type": "contourcarpet"
           }
          ],
          "heatmap": [
           {
            "colorbar": {
             "outlinewidth": 0,
             "ticks": ""
            },
            "colorscale": [
             [
              0,
              "#0d0887"
             ],
             [
              0.1111111111111111,
              "#46039f"
             ],
             [
              0.2222222222222222,
              "#7201a8"
             ],
             [
              0.3333333333333333,
              "#9c179e"
             ],
             [
              0.4444444444444444,
              "#bd3786"
             ],
             [
              0.5555555555555556,
              "#d8576b"
             ],
             [
              0.6666666666666666,
              "#ed7953"
             ],
             [
              0.7777777777777778,
              "#fb9f3a"
             ],
             [
              0.8888888888888888,
              "#fdca26"
             ],
             [
              1,
              "#f0f921"
             ]
            ],
            "type": "heatmap"
           }
          ],
          "heatmapgl": [
           {
            "colorbar": {
             "outlinewidth": 0,
             "ticks": ""
            },
            "colorscale": [
             [
              0,
              "#0d0887"
             ],
             [
              0.1111111111111111,
              "#46039f"
             ],
             [
              0.2222222222222222,
              "#7201a8"
             ],
             [
              0.3333333333333333,
              "#9c179e"
             ],
             [
              0.4444444444444444,
              "#bd3786"
             ],
             [
              0.5555555555555556,
              "#d8576b"
             ],
             [
              0.6666666666666666,
              "#ed7953"
             ],
             [
              0.7777777777777778,
              "#fb9f3a"
             ],
             [
              0.8888888888888888,
              "#fdca26"
             ],
             [
              1,
              "#f0f921"
             ]
            ],
            "type": "heatmapgl"
           }
          ],
          "histogram": [
           {
            "marker": {
             "pattern": {
              "fillmode": "overlay",
              "size": 10,
              "solidity": 0.2
             }
            },
            "type": "histogram"
           }
          ],
          "histogram2d": [
           {
            "colorbar": {
             "outlinewidth": 0,
             "ticks": ""
            },
            "colorscale": [
             [
              0,
              "#0d0887"
             ],
             [
              0.1111111111111111,
              "#46039f"
             ],
             [
              0.2222222222222222,
              "#7201a8"
             ],
             [
              0.3333333333333333,
              "#9c179e"
             ],
             [
              0.4444444444444444,
              "#bd3786"
             ],
             [
              0.5555555555555556,
              "#d8576b"
             ],
             [
              0.6666666666666666,
              "#ed7953"
             ],
             [
              0.7777777777777778,
              "#fb9f3a"
             ],
             [
              0.8888888888888888,
              "#fdca26"
             ],
             [
              1,
              "#f0f921"
             ]
            ],
            "type": "histogram2d"
           }
          ],
          "histogram2dcontour": [
           {
            "colorbar": {
             "outlinewidth": 0,
             "ticks": ""
            },
            "colorscale": [
             [
              0,
              "#0d0887"
             ],
             [
              0.1111111111111111,
              "#46039f"
             ],
             [
              0.2222222222222222,
              "#7201a8"
             ],
             [
              0.3333333333333333,
              "#9c179e"
             ],
             [
              0.4444444444444444,
              "#bd3786"
             ],
             [
              0.5555555555555556,
              "#d8576b"
             ],
             [
              0.6666666666666666,
              "#ed7953"
             ],
             [
              0.7777777777777778,
              "#fb9f3a"
             ],
             [
              0.8888888888888888,
              "#fdca26"
             ],
             [
              1,
              "#f0f921"
             ]
            ],
            "type": "histogram2dcontour"
           }
          ],
          "mesh3d": [
           {
            "colorbar": {
             "outlinewidth": 0,
             "ticks": ""
            },
            "type": "mesh3d"
           }
          ],
          "parcoords": [
           {
            "line": {
             "colorbar": {
              "outlinewidth": 0,
              "ticks": ""
             }
            },
            "type": "parcoords"
           }
          ],
          "pie": [
           {
            "automargin": true,
            "type": "pie"
           }
          ],
          "scatter": [
           {
            "fillpattern": {
             "fillmode": "overlay",
             "size": 10,
             "solidity": 0.2
            },
            "type": "scatter"
           }
          ],
          "scatter3d": [
           {
            "line": {
             "colorbar": {
              "outlinewidth": 0,
              "ticks": ""
             }
            },
            "marker": {
             "colorbar": {
              "outlinewidth": 0,
              "ticks": ""
             }
            },
            "type": "scatter3d"
           }
          ],
          "scattercarpet": [
           {
            "marker": {
             "colorbar": {
              "outlinewidth": 0,
              "ticks": ""
             }
            },
            "type": "scattercarpet"
           }
          ],
          "scattergeo": [
           {
            "marker": {
             "colorbar": {
              "outlinewidth": 0,
              "ticks": ""
             }
            },
            "type": "scattergeo"
           }
          ],
          "scattergl": [
           {
            "marker": {
             "colorbar": {
              "outlinewidth": 0,
              "ticks": ""
             }
            },
            "type": "scattergl"
           }
          ],
          "scattermapbox": [
           {
            "marker": {
             "colorbar": {
              "outlinewidth": 0,
              "ticks": ""
             }
            },
            "type": "scattermapbox"
           }
          ],
          "scatterpolar": [
           {
            "marker": {
             "colorbar": {
              "outlinewidth": 0,
              "ticks": ""
             }
            },
            "type": "scatterpolar"
           }
          ],
          "scatterpolargl": [
           {
            "marker": {
             "colorbar": {
              "outlinewidth": 0,
              "ticks": ""
             }
            },
            "type": "scatterpolargl"
           }
          ],
          "scatterternary": [
           {
            "marker": {
             "colorbar": {
              "outlinewidth": 0,
              "ticks": ""
             }
            },
            "type": "scatterternary"
           }
          ],
          "surface": [
           {
            "colorbar": {
             "outlinewidth": 0,
             "ticks": ""
            },
            "colorscale": [
             [
              0,
              "#0d0887"
             ],
             [
              0.1111111111111111,
              "#46039f"
             ],
             [
              0.2222222222222222,
              "#7201a8"
             ],
             [
              0.3333333333333333,
              "#9c179e"
             ],
             [
              0.4444444444444444,
              "#bd3786"
             ],
             [
              0.5555555555555556,
              "#d8576b"
             ],
             [
              0.6666666666666666,
              "#ed7953"
             ],
             [
              0.7777777777777778,
              "#fb9f3a"
             ],
             [
              0.8888888888888888,
              "#fdca26"
             ],
             [
              1,
              "#f0f921"
             ]
            ],
            "type": "surface"
           }
          ],
          "table": [
           {
            "cells": {
             "fill": {
              "color": "#EBF0F8"
             },
             "line": {
              "color": "white"
             }
            },
            "header": {
             "fill": {
              "color": "#C8D4E3"
             },
             "line": {
              "color": "white"
             }
            },
            "type": "table"
           }
          ]
         },
         "layout": {
          "annotationdefaults": {
           "arrowcolor": "#2a3f5f",
           "arrowhead": 0,
           "arrowwidth": 1
          },
          "autotypenumbers": "strict",
          "coloraxis": {
           "colorbar": {
            "outlinewidth": 0,
            "ticks": ""
           }
          },
          "colorscale": {
           "diverging": [
            [
             0,
             "#8e0152"
            ],
            [
             0.1,
             "#c51b7d"
            ],
            [
             0.2,
             "#de77ae"
            ],
            [
             0.3,
             "#f1b6da"
            ],
            [
             0.4,
             "#fde0ef"
            ],
            [
             0.5,
             "#f7f7f7"
            ],
            [
             0.6,
             "#e6f5d0"
            ],
            [
             0.7,
             "#b8e186"
            ],
            [
             0.8,
             "#7fbc41"
            ],
            [
             0.9,
             "#4d9221"
            ],
            [
             1,
             "#276419"
            ]
           ],
           "sequential": [
            [
             0,
             "#0d0887"
            ],
            [
             0.1111111111111111,
             "#46039f"
            ],
            [
             0.2222222222222222,
             "#7201a8"
            ],
            [
             0.3333333333333333,
             "#9c179e"
            ],
            [
             0.4444444444444444,
             "#bd3786"
            ],
            [
             0.5555555555555556,
             "#d8576b"
            ],
            [
             0.6666666666666666,
             "#ed7953"
            ],
            [
             0.7777777777777778,
             "#fb9f3a"
            ],
            [
             0.8888888888888888,
             "#fdca26"
            ],
            [
             1,
             "#f0f921"
            ]
           ],
           "sequentialminus": [
            [
             0,
             "#0d0887"
            ],
            [
             0.1111111111111111,
             "#46039f"
            ],
            [
             0.2222222222222222,
             "#7201a8"
            ],
            [
             0.3333333333333333,
             "#9c179e"
            ],
            [
             0.4444444444444444,
             "#bd3786"
            ],
            [
             0.5555555555555556,
             "#d8576b"
            ],
            [
             0.6666666666666666,
             "#ed7953"
            ],
            [
             0.7777777777777778,
             "#fb9f3a"
            ],
            [
             0.8888888888888888,
             "#fdca26"
            ],
            [
             1,
             "#f0f921"
            ]
           ]
          },
          "colorway": [
           "#636efa",
           "#EF553B",
           "#00cc96",
           "#ab63fa",
           "#FFA15A",
           "#19d3f3",
           "#FF6692",
           "#B6E880",
           "#FF97FF",
           "#FECB52"
          ],
          "font": {
           "color": "#2a3f5f"
          },
          "geo": {
           "bgcolor": "white",
           "lakecolor": "white",
           "landcolor": "#E5ECF6",
           "showlakes": true,
           "showland": true,
           "subunitcolor": "white"
          },
          "hoverlabel": {
           "align": "left"
          },
          "hovermode": "closest",
          "mapbox": {
           "style": "light"
          },
          "paper_bgcolor": "white",
          "plot_bgcolor": "#E5ECF6",
          "polar": {
           "angularaxis": {
            "gridcolor": "white",
            "linecolor": "white",
            "ticks": ""
           },
           "bgcolor": "#E5ECF6",
           "radialaxis": {
            "gridcolor": "white",
            "linecolor": "white",
            "ticks": ""
           }
          },
          "scene": {
           "xaxis": {
            "backgroundcolor": "#E5ECF6",
            "gridcolor": "white",
            "gridwidth": 2,
            "linecolor": "white",
            "showbackground": true,
            "ticks": "",
            "zerolinecolor": "white"
           },
           "yaxis": {
            "backgroundcolor": "#E5ECF6",
            "gridcolor": "white",
            "gridwidth": 2,
            "linecolor": "white",
            "showbackground": true,
            "ticks": "",
            "zerolinecolor": "white"
           },
           "zaxis": {
            "backgroundcolor": "#E5ECF6",
            "gridcolor": "white",
            "gridwidth": 2,
            "linecolor": "white",
            "showbackground": true,
            "ticks": "",
            "zerolinecolor": "white"
           }
          },
          "shapedefaults": {
           "line": {
            "color": "#2a3f5f"
           }
          },
          "ternary": {
           "aaxis": {
            "gridcolor": "white",
            "linecolor": "white",
            "ticks": ""
           },
           "baxis": {
            "gridcolor": "white",
            "linecolor": "white",
            "ticks": ""
           },
           "bgcolor": "#E5ECF6",
           "caxis": {
            "gridcolor": "white",
            "linecolor": "white",
            "ticks": ""
           }
          },
          "title": {
           "x": 0.05
          },
          "xaxis": {
           "automargin": true,
           "gridcolor": "white",
           "linecolor": "white",
           "ticks": "",
           "title": {
            "standoff": 15
           },
           "zerolinecolor": "white",
           "zerolinewidth": 2
          },
          "yaxis": {
           "automargin": true,
           "gridcolor": "white",
           "linecolor": "white",
           "ticks": "",
           "title": {
            "standoff": 15
           },
           "zerolinecolor": "white",
           "zerolinewidth": 2
          }
         }
        },
        "xaxis": {
         "anchor": "y",
         "domain": [
          0,
          1
         ],
         "title": {
          "text": "date"
         }
        },
        "yaxis": {
         "anchor": "x",
         "domain": [
          0,
          1
         ],
         "title": {
          "text": "count"
         }
        }
       }
      }
     },
     "metadata": {},
     "output_type": "display_data"
    }
   ],
   "source": [
    "# combine the biles and owens data frames to graph the timeline \n",
    "final2 = pd.concat([sb, jo])\n",
    "final2['date'] = pd.to_datetime(final2['Publish Date']).dt.date\n",
    "final2['time'] = pd.to_datetime(final2['Publish Date']).dt.time\n",
    "\n",
    "# plot time frame of comments \n",
    "plot2 = px.bar(final2, 'date')\n",
    "plot2"
   ]
  },
  {
   "cell_type": "code",
   "execution_count": null,
   "metadata": {},
   "outputs": [],
   "source": []
  }
 ],
 "metadata": {
  "kernelspec": {
   "display_name": "base",
   "language": "python",
   "name": "python3"
  },
  "language_info": {
   "codemirror_mode": {
    "name": "ipython",
    "version": 3
   },
   "file_extension": ".py",
   "mimetype": "text/x-python",
   "name": "python",
   "nbconvert_exporter": "python",
   "pygments_lexer": "ipython3",
   "version": "3.11.4"
  }
 },
 "nbformat": 4,
 "nbformat_minor": 2
}
